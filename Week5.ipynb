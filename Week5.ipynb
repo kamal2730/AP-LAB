{
 "cells": [
  {
   "cell_type": "markdown",
   "id": "d18addd9",
   "metadata": {},
   "source": [
    "## Design a Library Management System using classes and objects to manage books across different branches. "
   ]
  },
  {
   "cell_type": "code",
   "execution_count": 31,
   "id": "5199c537",
   "metadata": {},
   "outputs": [],
   "source": [
    "class Library:\n",
    "    library_name=\"MIT\"\n",
    "    total_books=0\n",
    "    def __init__(self,branch_name):\n",
    "        self.branch_name=branch_name\n",
    "        self.books=[]\n",
    "    def add_books(self,book_name):\n",
    "        self.books.append(book_name)\n",
    "        Library.total_books+=1\n",
    "    def display_books(self):\n",
    "        for i in self.books:\n",
    "            print(i)\n",
    "    @staticmethod\n",
    "    def display_total_books():\n",
    "        print(f\"Total number of books are:{Library.total_books}\")\n"
   ]
  },
  {
   "cell_type": "markdown",
   "id": "0bbf1c84",
   "metadata": {},
   "source": [
    "### Create two or more library branches and demonstrate adding books, displaying books per branch, and showing the total book count."
   ]
  },
  {
   "cell_type": "code",
   "execution_count": 32,
   "id": "9959084a",
   "metadata": {},
   "outputs": [
    {
     "name": "stdout",
     "output_type": "stream",
     "text": [
      "mat1\n",
      "mat2\n",
      "Quantum\n",
      "Mechanics\n",
      "Total number of books are:4\n"
     ]
    }
   ],
   "source": [
    "b1=Library(\"maths\")\n",
    "b2=Library(\"Phy\")\n",
    "\n",
    "b1.add_books(\"mat1\")\n",
    "b1.add_books(\"mat2\")\n",
    "\n",
    "b2.add_books(\"Quantum\")\n",
    "b2.add_books(\"Mechanics\")\n",
    "\n",
    "b1.display_books()\n",
    "b2.display_books()\n",
    "\n",
    "Library.display_total_books()\n"
   ]
  },
  {
   "cell_type": "code",
   "execution_count": 33,
   "id": "e7c85da7",
   "metadata": {},
   "outputs": [],
   "source": [
    "class Person:\n",
    "    def __init__(self,name,roll_no):\n",
    "        self.name=name\n",
    "        self.roll_no=roll_no\n",
    "class Student(Person):\n",
    "    def __init__(self, name, roll_no,subject_marks):\n",
    "        super().__init__(name, roll_no)\n",
    "        self.subject_marks=subject_marks\n",
    "\n",
    "class Result(Student):\n",
    "    def __init__(self, name, roll_no, subject_marks):\n",
    "        super().__init__(name, roll_no, subject_marks)\n",
    "    def total_marks(self):\n",
    "        self.total_mark=sum([i for i in self.subject_marks.values()])\n",
    "        self.percentage=self.total_mark/(len(self.subject_marks))\n",
    "    def check_pass(self):\n",
    "        self.total_marks()\n",
    "        return self.percentage>=40\n"
   ]
  },
  {
   "cell_type": "code",
   "execution_count": 34,
   "id": "b252d81a",
   "metadata": {},
   "outputs": [
    {
     "name": "stdout",
     "output_type": "stream",
     "text": [
      "Name: Alice\n",
      "Roll No: 1\n",
      "Total Marks: 417\n",
      "Percentage: 83.40%\n",
      "Result: Pass\n",
      "------------------------------\n",
      "Name: Bob\n",
      "Roll No: 2\n",
      "Total Marks: 250\n",
      "Percentage: 50.00%\n",
      "Result: Pass\n",
      "------------------------------\n",
      "Name: Charlie\n",
      "Roll No: 3\n",
      "Total Marks: 166\n",
      "Percentage: 33.20%\n",
      "Result: Fail\n",
      "------------------------------\n"
     ]
    }
   ],
   "source": [
    "students = [\n",
    "    Result(\"Alice\", 1, {\"Math\": 85, \"Physics\": 78, \"Chemistry\": 92, \"English\": 74, \"Biology\": 88}),\n",
    "    Result(\"Bob\", 2, {\"Math\": 55, \"Physics\": 42, \"Chemistry\": 65, \"English\": 38, \"Biology\": 50}),\n",
    "    Result(\"Charlie\", 3, {\"Math\": 30, \"Physics\": 28, \"Chemistry\": 35, \"English\": 40, \"Biology\": 33})\n",
    "]\n",
    "\n",
    "\n",
    "for student in students:\n",
    "    student.total_marks()\n",
    "    print(f\"Name: {student.name}\")\n",
    "    print(f\"Roll No: {student.roll_no}\")\n",
    "    print(f\"Total Marks: {student.total_mark}\")\n",
    "    print(f\"Percentage: {student.percentage:.2f}%\")\n",
    "    print(f\"Result: {'Pass' if student.check_pass() else 'Fail'}\")\n",
    "    print(\"-\" * 30)"
   ]
  },
  {
   "cell_type": "code",
   "execution_count": 35,
   "id": "5ce38502",
   "metadata": {},
   "outputs": [],
   "source": [
    "class Employee:\n",
    "    def __init__(self, emp_id, emp_name):\n",
    "        self.emp_id = emp_id\n",
    "        self.emp_name = emp_name\n",
    "\n",
    "class Salary:\n",
    "    def __init__(self, basic, hra, da):\n",
    "        self.basic = basic\n",
    "        self.hra = hra\n",
    "        self.da = da\n",
    "\n",
    "    def calculate_salary(self):\n",
    "        self.gross_salary = self.basic + self.hra + self.da\n",
    "\n",
    "class Payroll(Employee, Salary):\n",
    "    def __init__(self, emp_id, emp_name, basic, hra, da):\n",
    "        Employee.__init__(self, emp_id, emp_name)\n",
    "        Salary.__init__(self, basic, hra, da)\n",
    "\n",
    "    def display_details(self):\n",
    "        self.calculate_salary()\n",
    "        print(f\"Employee ID: {self.emp_id}\")\n",
    "        print(f\"Employee Name: {self.emp_name}\")\n",
    "        print(f\"Gross Salary: {self.gross_salary}\")\n",
    "        print(\"-\" * 30)\n",
    "\n"
   ]
  },
  {
   "cell_type": "code",
   "execution_count": 36,
   "id": "e5a99926",
   "metadata": {},
   "outputs": [
    {
     "name": "stdout",
     "output_type": "stream",
     "text": [
      "Employee ID: 101\n",
      "Employee Name: Alice\n",
      "Gross Salary: 65000\n",
      "------------------------------\n",
      "Employee ID: 102\n",
      "Employee Name: Bob\n",
      "Gross Salary: 52000\n",
      "------------------------------\n",
      "Employee ID: 103\n",
      "Employee Name: Charlie\n",
      "Gross Salary: 78000\n",
      "------------------------------\n"
     ]
    }
   ],
   "source": [
    "employees = [\n",
    "    Payroll(101, \"Alice\", 50000, 10000, 5000),\n",
    "    Payroll(102, \"Bob\", 40000, 8000, 4000),\n",
    "    Payroll(103, \"Charlie\", 60000, 12000, 6000)\n",
    "]\n",
    "\n",
    "for emp in employees:\n",
    "    emp.display_details()"
   ]
  },
  {
   "cell_type": "code",
   "execution_count": null,
   "id": "dce8b619",
   "metadata": {},
   "outputs": [],
   "source": []
  }
 ],
 "metadata": {
  "kernelspec": {
   "display_name": "base",
   "language": "python",
   "name": "python3"
  },
  "language_info": {
   "codemirror_mode": {
    "name": "ipython",
    "version": 3
   },
   "file_extension": ".py",
   "mimetype": "text/x-python",
   "name": "python",
   "nbconvert_exporter": "python",
   "pygments_lexer": "ipython3",
   "version": "3.12.9"
  }
 },
 "nbformat": 4,
 "nbformat_minor": 5
}
