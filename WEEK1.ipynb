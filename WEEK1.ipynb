{
 "cells": [
  {
   "cell_type": "markdown",
   "id": "f6a05c95",
   "metadata": {},
   "source": [
    "### WEEK1"
   ]
  },
  {
   "cell_type": "markdown",
   "id": "9367be08",
   "metadata": {},
   "source": [
    "1.\tWrite a Python program to input an amount (integer) and determine the minimum number of notes required to make up that amount using denominations of 2000, 500, 200, 100, 50, 20, 10, 5, 2, and 1.\n",
    "a.\tPrompt user input\n",
    "b.\tUse conditionals and loops to calculate notes\n",
    "c.\tHandle edge cases (e.g., 0 or negative inputs)\n"
   ]
  },
  {
   "cell_type": "code",
   "execution_count": 1,
   "id": "b158d72d",
   "metadata": {},
   "outputs": [
    {
     "name": "stdout",
     "output_type": "stream",
     "text": [
      "input an amount:123451\n",
      "2000:61\n",
      "500:2\n",
      "200:2\n",
      "50:1\n",
      "1:1\n"
     ]
    }
   ],
   "source": [
    "#user input\n",
    "n=int(input(\"input an amount:\"))\n",
    "if n<=0:\n",
    "    print(\"Please enter a positive integer greater than zero.\")\n",
    "    exit()\n",
    "notes = [2000, 500, 200, 100, 50, 20, 10, 5, 2, 1]\n",
    "note_count = {}\n",
    "for note in notes:\n",
    "    if n>=note:\n",
    "        count = n // note\n",
    "        print(f\"{note}:{count}\")\n",
    "        n = n % note\n",
    "        "
   ]
  },
  {
   "cell_type": "markdown",
   "id": "e87de6ea",
   "metadata": {},
   "source": [
    "2.\tBuild a menu-driven scientific calculator that performs operations like addition, subtraction, multiplication, division, and power for:\n",
    "a.\tFloat numbers\n",
    "b.\tComplex numbers\n",
    "Implement validation for invalid operations"
   ]
  },
  {
   "cell_type": "code",
   "execution_count": 2,
   "id": "dadcee08",
   "metadata": {},
   "outputs": [
    {
     "name": "stdout",
     "output_type": "stream",
     "text": [
      "\n",
      "--- Scientific Calculator ---\n",
      "1. Add\n",
      "2. Subtract\n",
      "3. Multiply\n",
      "4. Divide\n",
      "5. Power\n",
      "6. Exit\n",
      "Choose (1-6): 4\n",
      "Number type:\n",
      "1. Float\n",
      "2. Complex\n",
      "Choose (1 or 2): 2\n",
      "Enter first complex number (e.g. 1+2j): 53+67j\n",
      "Enter second complex number: 35+76j\n",
      "Result: (0.9922868161691187-0.24039422939580063j)\n",
      "\n",
      "--- Scientific Calculator ---\n",
      "1. Add\n",
      "2. Subtract\n",
      "3. Multiply\n",
      "4. Divide\n",
      "5. Power\n",
      "6. Exit\n",
      "Choose (1-6): 6\n",
      "Bye!\n"
     ]
    }
   ],
   "source": [
    "import math\n",
    "\n",
    "def f_ops(op, x, y):\n",
    "    if op == '1': return x + y\n",
    "    elif op == '2': return x - y\n",
    "    elif op == '3': return x * y\n",
    "    elif op == '4':\n",
    "        if y == 0: return \"Error: Division by zero.\"\n",
    "        return x / y\n",
    "    elif op == '5': return math.pow(x, y)\n",
    "    else: return \"Invalid operation.\"\n",
    "\n",
    "def c_ops(op, x, y):\n",
    "    if op == '1': return x + y\n",
    "    elif op == '2': return x - y\n",
    "    elif op == '3': return x * y\n",
    "    elif op == '4':\n",
    "        if y == 0: return \"Error: Division by zero.\"\n",
    "        return x / y\n",
    "    elif op == '5': return x ** y\n",
    "    else: return \"Invalid operation.\"\n",
    "\n",
    "def get_floats():\n",
    "    return float(input(\"Enter first number: \")), float(input(\"Enter second number: \"))\n",
    "\n",
    "def get_complex():\n",
    "    return complex(input(\"Enter first complex number (e.g. 1+2j): \")), complex(input(\"Enter second complex number: \"))\n",
    "\n",
    "def menu():\n",
    "    print(\"\\n--- Scientific Calculator ---\")\n",
    "    print(\"1. Add\")\n",
    "    print(\"2. Subtract\")\n",
    "    print(\"3. Multiply\")\n",
    "    print(\"4. Divide\")\n",
    "    print(\"5. Power\")\n",
    "    print(\"6. Exit\")\n",
    "\n",
    "def main():\n",
    "    while True:\n",
    "        menu()\n",
    "        op = input(\"Choose (1-6): \")\n",
    "        if op == '6':\n",
    "            print(\"Bye!\")\n",
    "            break\n",
    "\n",
    "        print(\"Number type:\\n1. Float\\n2. Complex\")\n",
    "        t = input(\"Choose (1 or 2): \")\n",
    "\n",
    "        try:\n",
    "            if t == '1':\n",
    "                x, y = get_floats()\n",
    "                res = f_ops(op, x, y)\n",
    "            elif t == '2':\n",
    "                x, y = get_complex()\n",
    "                res = c_ops(op, x, y)\n",
    "            else:\n",
    "                print(\"Invalid type.\")\n",
    "                continue\n",
    "\n",
    "            print(f\"Result: {res}\")\n",
    "        except Exception as e:\n",
    "            print(f\"Error: {e}\")\n",
    "\n",
    "main()"
   ]
  },
  {
   "cell_type": "markdown",
   "id": "35784220",
   "metadata": {},
   "source": [
    "3.\tWrite a program that simulates an invoice generator for a small shop. It should:\n",
    "a.\tAccept item details: name, quantity, unit price\n",
    "b.\tCalculate item total and apply 18% GST (use Decimal for accuracy)\n",
    "c.\tShow the final bill with a breakdown\n",
    "Use loops to accept multiple items. Use Decimal for calculations. Print formatted output using alignment\n"
   ]
  },
  {
   "cell_type": "code",
   "execution_count": 3,
   "id": "b5502ba7",
   "metadata": {},
   "outputs": [
    {
     "name": "stdout",
     "output_type": "stream",
     "text": [
      "Enter item details or exit to close\n",
      "Item name: monitor\n",
      "Quantity: 40\n",
      "Price: 12500\n",
      "Item name: cpu\n",
      "Quantity: 40\n",
      "Price: 67894\n",
      "Item name: keybord mouse combo\n",
      "Quantity: 40\n",
      "Price: 4367\n",
      "Item name: exit\n",
      "\n",
      "Item            Quantity   Unit Price   Total Price \n",
      "--------------------------------------------------\n",
      "monitor         40         12500.00     500000.00   \n",
      "cpu             40         67894.00     2715760.00  \n",
      "keybord mouse combo 40         4367.00      174680.00   \n",
      "--------------------------------------------------\n",
      "\n",
      "Raw Total:                     3390440.00\n",
      "GST (18%):                     610279.20\n",
      "Total:                         4000719.20\n",
      "\n",
      "Thank you!\n"
     ]
    }
   ],
   "source": [
    "from decimal import Decimal\n",
    "\n",
    "lst = []\n",
    "print(\"Enter item details or exit to close\")\n",
    "\n",
    "while True:\n",
    "    n = input(\"Item name: \")\n",
    "    if n.lower() == \"exit\":\n",
    "        break\n",
    "    q = int(input(\"Quantity: \"))\n",
    "    p = Decimal(input(\"Price: \"))\n",
    "    lst.append({\n",
    "        0: n,\n",
    "        1: q,\n",
    "        2: p,\n",
    "        3: p * q\n",
    "    })\n",
    "t = Decimal(0)\n",
    "print(\"\\n{:<15} {:<10} {:<12} {:<12}\".format('Item', 'Quantity', 'Unit Price', 'Total Price'))\n",
    "print('-' * 50)\n",
    "for i in lst:\n",
    "    print(\"{:<15} {:<10} {:<12} {:<12}\".format(i[0], i[1], f\"{i[2]:.2f}\", f\"{i[3]:.2f}\"))\n",
    "    t += i[3]\n",
    "gst = t * Decimal(0.18)\n",
    "ft = t + gst\n",
    "print('-' * 50)\n",
    "print(f\"\\n{'Raw Total:':<30} {t:.2f}\")\n",
    "print(f\"{'GST (18%):':<30} {gst:.2f}\")\n",
    "print(f\"{'Total:':<30} {ft:.2f}\")\n",
    "print(\"\\nThank you!\")"
   ]
  },
  {
   "cell_type": "markdown",
   "id": "27819022",
   "metadata": {},
   "source": [
    "4.\tCreate a program that takes temperatures in Fahrenheit for 7 days, converts them to Celsius, and finds:\n",
    "a.\tHighest and lowest temperatures\n",
    "b.\tAverage temperature\n",
    "c.\tNumber of days below 20°C\n",
    "Use the formula C = (F - 32) * 5/9.  Store results in a list. Use max(), min(), and average calculation. Loop to count specific values"
   ]
  },
  {
   "cell_type": "code",
   "execution_count": 8,
   "id": "265abe5e",
   "metadata": {},
   "outputs": [
    {
     "name": "stdout",
     "output_type": "stream",
     "text": [
      "Enter day 1 temperature in F: 60\n",
      "Enter day 2 temperature in F: 70\n",
      "Enter day 3 temperature in F: 65\n",
      "Enter day 4 temperature in F: 50\n",
      "Enter day 5 temperature in F: 80\n",
      "Enter day 6 temperature in F: 64\n",
      "Enter day 7 temperature in F: 75\n",
      "Highest: 26.67 Lowest: 10.00 Average: 19.05 Number of days below 20°C: 4\n"
     ]
    }
   ],
   "source": [
    "temp=[]\n",
    "for i in range(7):\n",
    "    temp.append((float(input(f\"Enter day {i+1} temperature in F: \")) - 32) * (5/9))\n",
    "print(f\"Highest: {max(temp):.2f} Lowest: {min(temp):.2f} Average: {(sum(temp) / len(temp)):.2f} Number of days below 20°C: {len([t for t in temp if t < 20])}\")"
   ]
  },
  {
   "cell_type": "code",
   "execution_count": null,
   "id": "626c71be",
   "metadata": {},
   "outputs": [],
   "source": []
  },
  {
   "cell_type": "code",
   "execution_count": null,
   "id": "5051921c",
   "metadata": {},
   "outputs": [],
   "source": []
  }
 ],
 "metadata": {
  "kernelspec": {
   "display_name": "Python 3 (ipykernel)",
   "language": "python",
   "name": "python3"
  },
  "language_info": {
   "codemirror_mode": {
    "name": "ipython",
    "version": 3
   },
   "file_extension": ".py",
   "mimetype": "text/x-python",
   "name": "python",
   "nbconvert_exporter": "python",
   "pygments_lexer": "ipython3",
   "version": "3.9.13"
  }
 },
 "nbformat": 4,
 "nbformat_minor": 5
}
