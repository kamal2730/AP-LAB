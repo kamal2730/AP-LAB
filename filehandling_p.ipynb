{
 "cells": [
  {
   "cell_type": "code",
   "execution_count": 31,
   "id": "cf0adf88",
   "metadata": {},
   "outputs": [],
   "source": [
    "import csv\n",
    "book={}\n",
    "with open(\"books.csv\",'r') as f,open(\"output.csv\",'w') as op:\n",
    "    data_=csv.DictReader(f)\n",
    "    data=list(data_)\n",
    "    fieldnames=data_.fieldnames\n",
    "    for i in data:\n",
    "        for key,val in i.items():\n",
    "            i[key]=val.strip()\n",
    "        try:\n",
    "            i['Rating']=float(i['Rating'])\n",
    "        except ValueError:\n",
    "            i['Rating']=None\n",
    "        try:\n",
    "            genre=i['Genre'].split('|')\n",
    "            for k,g in enumerate(genre):\n",
    "                i[f'Genre{k+1}']=g\n",
    "                if f'Genre{k+1}' not in fieldnames:\n",
    "                    fieldnames.append(f'Genre{k+1}')\n",
    "            del i['Genre']\n",
    "        except:\n",
    "            print(\"skipping\")\n",
    "        book[i['Title']]=0\n",
    "    writer=csv.DictWriter(op,fieldnames=fieldnames)\n",
    "    writer.writeheader()\n",
    "    writer.writerows(data)\n",
    "    "
   ]
  },
  {
   "cell_type": "code",
   "execution_count": 32,
   "id": "a629bc0b",
   "metadata": {},
   "outputs": [
    {
     "data": {
      "text/plain": [
       "{'The Alchemist': 0, '1984': 0, 'To Kill a Mockingbird': 0}"
      ]
     },
     "execution_count": 32,
     "metadata": {},
     "output_type": "execute_result"
    }
   ],
   "source": [
    "book"
   ]
  },
  {
   "cell_type": "code",
   "execution_count": 47,
   "id": "8f8c3a1c",
   "metadata": {},
   "outputs": [
    {
     "data": {
      "text/plain": [
       "{'The Alchemist': 2, '1984': 2, 'To Kill a Mockingbird': 1}"
      ]
     },
     "execution_count": 47,
     "metadata": {},
     "output_type": "execute_result"
    }
   ],
   "source": [
    "import string\n",
    "with open(\"reviews.txt\",'r') as f:\n",
    "    data=f.read().lower()\n",
    "    data=data.translate(str.maketrans(\"\", \"\", string.punctuation))\n",
    "    for title in book:\n",
    "        count=data.count(title.lower())\n",
    "        book[title]=count\n",
    "data\n",
    "book"
   ]
  }
 ],
 "metadata": {
  "kernelspec": {
   "display_name": "base",
   "language": "python",
   "name": "python3"
  },
  "language_info": {
   "codemirror_mode": {
    "name": "ipython",
    "version": 3
   },
   "file_extension": ".py",
   "mimetype": "text/x-python",
   "name": "python",
   "nbconvert_exporter": "python",
   "pygments_lexer": "ipython3",
   "version": "3.12.9"
  }
 },
 "nbformat": 4,
 "nbformat_minor": 5
}
