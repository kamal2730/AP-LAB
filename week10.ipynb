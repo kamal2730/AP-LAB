{
 "cells": [
  {
   "cell_type": "markdown",
   "id": "cccbe60b",
   "metadata": {},
   "source": [
    "Design a Python application to simulate a banking system involving two shared bank accounts, Account A (starting balance: $1000) and Account B (starting balance: $500). \n",
    "Write a function, transfer_money(sender_account, receiver_account, amount), and launch five threads that concurrently attempt to call this function with random amounts between $1 and $100.\n",
    "1.\tImplement Necessary Synchronization: Use two separate threading.Lock objects (one for each account) to protect the integrity of the individual account balances.\n",
    "2.\tDemonstrate Deadlock (Optional): Show how a deadlock can occur if the two locks are acquired in different orders by different threads (e.g., Thread 1 acquires Lock A then Lock B, while Thread 2 acquires Lock B then Lock A).\n",
    "The final combined balance (A+B) must always equal the initial combined balance ($1500), regardless of the transfer order."
   ]
  },
  {
   "cell_type": "code",
   "execution_count": 104,
   "id": "469e6286",
   "metadata": {},
   "outputs": [
    {
     "name": "stdout",
     "output_type": "stream",
     "text": [
      "Starting Transfers...\n",
      "\n",
      "--- Final Results ---\n",
      "Account A Balance: $947\n",
      "Account B Balance: $553\n",
      "Total Combined: $1500\n",
      "Expected Total: $1500\n",
      "Time Taken: 0.0023 sec\n"
     ]
    }
   ],
   "source": [
    "import threading\n",
    "import random\n",
    "import time\n",
    "\n",
    "account_A = {\"name\": \"Account A\", \"balance\": 1000}\n",
    "account_B = {\"name\": \"Account B\", \"balance\": 500}\n",
    "\n",
    "lock_A = threading.Lock()\n",
    "lock_B = threading.Lock()\n",
    "\n",
    "def transfer_money(sender, receiver, amount):\n",
    "    # Always lock accounts in a fixed order to prevent deadlock\n",
    "    first_lock, second_lock = (lock_A, lock_B) if id(lock_A) < id(lock_B) else (lock_B, lock_A)\n",
    "    with first_lock:\n",
    "        with second_lock:\n",
    "            if sender[\"balance\"] >= amount:\n",
    "                sender[\"balance\"] -= amount\n",
    "                receiver[\"balance\"] += amount\n",
    "\n",
    "def simulate_transfer():\n",
    "    for _ in range(50):\n",
    "        amount = random.randint(1, 100)\n",
    "        if random.choice([True, False]):\n",
    "            transfer_money(account_A, account_B, amount)\n",
    "        else:\n",
    "            transfer_money(account_B, account_A, amount)\n",
    "\n",
    "threads = [threading.Thread(target=simulate_transfer, name=f\"T{i+1}\") for i in range(5)]\n",
    "\n",
    "print(\"Starting Transfers...\")\n",
    "start = time.time()\n",
    "for t in threads:\n",
    "    t.start()\n",
    "for t in threads:\n",
    "    t.join()\n",
    "end = time.time()\n",
    "\n",
    "print(\"\\n--- Final Results ---\")\n",
    "print(f\"Account A Balance: ${account_A['balance']}\")\n",
    "print(f\"Account B Balance: ${account_B['balance']}\")\n",
    "print(f\"Total Combined: ${account_A['balance'] + account_B['balance']}\")\n",
    "print(f\"Expected Total: $1500\")\n",
    "print(f\"Time Taken: {end - start:.4f} sec\")\n"
   ]
  },
  {
   "cell_type": "markdown",
   "id": "241e6409",
   "metadata": {},
   "source": [
    "A company wants to analyze large text files. You are asked to design a Python program that:\n",
    "Splits a given text file into five equal parts.\n",
    "Creates five threads, where each thread:\n",
    "\n",
    "a.\tReads one part of the file,\n",
    "\n",
    "b.\tCounts the number of words in its chunk,\n",
    "\n",
    "c.\tStores the count in a shared list.\n",
    "\n",
    "After all threads complete, the main thread should sum up the word counts and display the total number of words in the file.\n"
   ]
  },
  {
   "cell_type": "code",
   "execution_count": 105,
   "id": "ae03ec27",
   "metadata": {},
   "outputs": [
    {
     "name": "stdout",
     "output_type": "stream",
     "text": [
      "Total word count: 6003\n",
      "Processed in: 0.0008 seconds\n"
     ]
    }
   ],
   "source": [
    "import threading\n",
    "import time\n",
    "\n",
    "sample_text = (\"Python multithreading is powerful and efficient. \" * 1000).strip()\n",
    "with open(\"sample_text.txt\", \"w\") as f:\n",
    "    f.write(sample_text)\n",
    "\n",
    "word_counts = []\n",
    "lock = threading.Lock()\n",
    "\n",
    "def count_words_in_chunk(chunk):\n",
    "    count = len(chunk.split())\n",
    "    with lock:\n",
    "        word_counts.append(count)\n",
    "\n",
    "def threaded_word_count(filename, num_threads=5):\n",
    "    with open(filename, \"r\") as f:\n",
    "        text = f.read()\n",
    "    size = len(text)\n",
    "    chunk_size = size // num_threads\n",
    "    threads = []\n",
    "    start_time = time.time()\n",
    "    for i in range(num_threads):\n",
    "        start_idx = i * chunk_size\n",
    "        end_idx = None if i == num_threads - 1 else (i + 1) * chunk_size\n",
    "        chunk = text[start_idx:end_idx]\n",
    "        t = threading.Thread(target=count_words_in_chunk, args=(chunk,))\n",
    "        threads.append(t)\n",
    "        t.start()\n",
    "    for t in threads:\n",
    "        t.join()\n",
    "    total_words = sum(word_counts)\n",
    "    print(f\"Total word count: {total_words}\")\n",
    "    print(f\"Processed in: {time.time() - start_time:.4f} seconds\")\n",
    "\n",
    "threaded_word_count(\"sample_text.txt\")\n"
   ]
  },
  {
   "cell_type": "markdown",
   "id": "53399e09",
   "metadata": {},
   "source": [
    "Design a Python program to perform matrix multiplication using multithreading. You are given two square matrices A and B of size N x N. Create N threads, where each thread computes one row of the result matrix C = A × B. Use the threading module to launch the threads and join them after completion. Store the results in a shared 2D list (matrix C). Ensure synchronization so that no race condition occurs when multiple threads update the shared matrix. Compare the performance of the threaded version with a sequential version for large matrices."
   ]
  },
  {
   "cell_type": "code",
   "execution_count": 106,
   "id": "0e8b21fc",
   "metadata": {},
   "outputs": [
    {
     "name": "stdout",
     "output_type": "stream",
     "text": [
      "Threaded multiplication took: 0.000817 sec\n",
      "Sequential multiplication took: 0.000041 sec\n",
      "\n",
      "Matrix A: [[10, 2, 10, 10], [8, 9, 10, 7], [2, 4, 5, 5], [4, 9, 1, 10]]\n",
      "Matrix B: [[6, 10, 4, 9], [2, 8, 8, 2], [6, 3, 5, 3], [10, 3, 10, 10]]\n",
      "\n",
      "Result (Threaded): [[224, 176, 206, 224], [196, 203, 224, 190], [100, 82, 115, 91], [148, 145, 193, 157]]\n",
      "Result (Sequential): [[224, 176, 206, 224], [196, 203, 224, 190], [100, 82, 115, 91], [148, 145, 193, 157]]\n"
     ]
    }
   ],
   "source": [
    "import threading\n",
    "import random\n",
    "import time\n",
    "\n",
    "N = 4\n",
    "A = [[random.randint(1, 10) for _ in range(N)] for _ in range(N)]\n",
    "B = [[random.randint(1, 10) for _ in range(N)] for _ in range(N)]\n",
    "C = [[0 for _ in range(N)] for _ in range(N)]\n",
    "\n",
    "lock = threading.Lock()\n",
    "\n",
    "def multiply_row(row_idx):\n",
    "    global C\n",
    "    for j in range(N):\n",
    "        value = sum(A[row_idx][k] * B[k][j] for k in range(N))\n",
    "        with lock:\n",
    "            C[row_idx][j] = value\n",
    "\n",
    "def threaded_matrix_multiply():\n",
    "    threads = []\n",
    "    start = time.time()\n",
    "    for i in range(N):\n",
    "        t = threading.Thread(target=multiply_row, args=(i,))\n",
    "        threads.append(t)\n",
    "        t.start()\n",
    "    for t in threads:\n",
    "        t.join()\n",
    "    end = time.time()\n",
    "    print(f\"Threaded multiplication took: {end - start:.6f} sec\")\n",
    "\n",
    "def sequential_matrix_multiply():\n",
    "    start = time.time()\n",
    "    result = [[sum(A[i][k] * B[k][j] for k in range(N)) for j in range(N)] for i in range(N)]\n",
    "    end = time.time()\n",
    "    print(f\"Sequential multiplication took: {end - start:.6f} sec\")\n",
    "    return result\n",
    "\n",
    "threaded_matrix_multiply()\n",
    "seq_result = sequential_matrix_multiply()\n",
    "\n",
    "print(\"\\nMatrix A:\", A)\n",
    "print(\"Matrix B:\", B)\n",
    "print(\"\\nResult (Threaded):\", C)\n",
    "print(\"Result (Sequential):\", seq_result)\n"
   ]
  }
 ],
 "metadata": {
  "kernelspec": {
   "display_name": "Python 3",
   "language": "python",
   "name": "python3"
  },
  "language_info": {
   "codemirror_mode": {
    "name": "ipython",
    "version": 3
   },
   "file_extension": ".py",
   "mimetype": "text/x-python",
   "name": "python",
   "nbconvert_exporter": "python",
   "pygments_lexer": "ipython3",
   "version": "3.11.12"
  }
 },
 "nbformat": 4,
 "nbformat_minor": 5
}
