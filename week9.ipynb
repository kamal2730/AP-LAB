{
 "cells": [
  {
   "cell_type": "markdown",
   "id": "c36ebd89",
   "metadata": {},
   "source": [
    "# WEEK 9"
   ]
  },
  {
   "cell_type": "markdown",
   "id": "bf548e44",
   "metadata": {},
   "source": [
    "# Movies CSV Processing\n",
    "\n",
    "**Question:**  \n",
    "Given a `movies.csv` file with columns: `Title, Year, Genre, Rating`, clean the data by:  \n",
    "- Removing leading/trailing spaces in all fields  \n",
    "- Splitting multiple genres (e.g., Action|Sci-Fi) into separate columns (`Genre1, Genre2, …`)  \n",
    "- Ensuring `Year` and `Rating` are numeric types  \n",
    "\n",
    "Save the cleaned dataset to `movies_clean.csv`. Generate a summary text file `genre_stats.txt` with the average rating per genre.\n"
   ]
  },
  {
   "cell_type": "code",
   "execution_count": 6,
   "id": "2b20d0b6",
   "metadata": {},
   "outputs": [
    {
     "name": "stdout",
     "output_type": "stream",
     "text": [
      "\n",
      "movies_clean.csv content:\n",
      "        Title  Year  Rating  Genre1   Genre2\n",
      "0  The Matrix  1999     8.7  Action   Sci-Fi\n",
      "1   Inception  2010     8.8  Sci-Fi   Action\n",
      "2  Fight Club  1999     8.8   Drama     None\n",
      "\n",
      "genre_stats.txt content:\n",
      " Action : 8.80\n",
      "Action : 8.70\n",
      "Drama : 8.80\n",
      "Sci-Fi : 8.75\n",
      "\n"
     ]
    }
   ],
   "source": [
    "import pandas as pd\n",
    "\n",
    "df = pd.read_csv(\"movies.csv\")\n",
    "df = df.applymap(lambda x: x.strip() if isinstance(x, str) else x)\n",
    "genres_split = df[\"Genre\"].str.split(\"|\", expand=True)\n",
    "genres_split.columns = [f\"Genre{i+1}\" for i in range(genres_split.shape[1])]\n",
    "df = pd.concat([df.drop(columns=[\"Genre\"]), genres_split], axis=1)\n",
    "df[\"Year\"] = pd.to_numeric(df[\"Year\"])\n",
    "df[\"Rating\"] = pd.to_numeric(df[\"Rating\"])\n",
    "df.to_csv(\"movies_clean.csv\", index=False)\n",
    "\n",
    "print(\"\\nmovies_clean.csv content:\")\n",
    "print(df)\n",
    "\n",
    "genres = pd.melt(df, id_vars=[\"Title\", \"Year\", \"Rating\"], value_vars=genres_split.columns, value_name=\"Genre\")\n",
    "genres = genres.dropna(subset=[\"Genre\"])\n",
    "genre_stats = genres.groupby(\"Genre\")[\"Rating\"].mean().reset_index()\n",
    "\n",
    "with open(\"genre_stats.txt\", \"w\") as f:\n",
    "    for _, row in genre_stats.iterrows():\n",
    "        f.write(f\"{row['Genre']} : {row['Rating']:.2f}\\n\")\n",
    "\n",
    "print(\"\\ngenre_stats.txt content:\")\n",
    "with open(\"genre_stats.txt\", \"r\") as f:\n",
    "    print(f.read())\n"
   ]
  },
  {
   "cell_type": "markdown",
   "id": "d43c13b7",
   "metadata": {},
   "source": [
    "# Students CSV Processing\n",
    "\n",
    "**Question:**  \n",
    "Given a `students.csv` file with columns: `Name, Subject, Marks`, perform the following:  \n",
    "- Convert student names into Title Case (e.g., alice → Alice)  \n",
    "- Group marks by subject and calculate:  \n",
    "  - Average marks per subject  \n",
    "  - Highest scorer in each subject  \n",
    "\n",
    "Write the results into `summary.csv` in the format:  \n",
    "`Subject, Average, Topper, TopperMarks`\n"
   ]
  },
  {
   "cell_type": "code",
   "execution_count": 7,
   "id": "3b37a31b",
   "metadata": {},
   "outputs": [
    {
     "name": "stdout",
     "output_type": "stream",
     "text": [
      "\n",
      "summary.csv content:\n",
      "   Subject  Average   Topper  TopperMarks\n",
      "0     Math     91.5  Charlie           95\n",
      "1  Science     72.0      Bob           72\n"
     ]
    }
   ],
   "source": [
    "import pandas as pd\n",
    "\n",
    "df = pd.read_csv(\"students.csv\")\n",
    "df[\"Name\"] = df[\"Name\"].str.title()\n",
    "avg_marks = df.groupby(\"Subject\")[\"Marks\"].mean().reset_index(name=\"Average\")\n",
    "topper = df.loc[df.groupby(\"Subject\")[\"Marks\"].idxmax()]\n",
    "summary = avg_marks.merge(topper, on=\"Subject\")\n",
    "summary = summary.rename(columns={\"Name\": \"Topper\", \"Marks\": \"TopperMarks\"})\n",
    "summary.to_csv(\"summary.csv\", index=False)\n",
    "\n",
    "print(\"\\nsummary.csv content:\")\n",
    "print(summary)\n"
   ]
  },
  {
   "cell_type": "markdown",
   "id": "5d42010d",
   "metadata": {},
   "source": [
    "# Article Text Processing\n",
    "\n",
    "**Question:**  \n",
    "Given a `.txt` file containing an article or book chapter, perform the following:  \n",
    "- Remove punctuation  \n",
    "- Convert all text to lowercase  \n",
    "- Tokenize the text into words  \n",
    "- Count the frequency of each word and store it in a dictionary  \n",
    "\n",
    "Write the top 20 most frequent words to `output.txt` in the format:  \n",
    "`word, frequency`\n"
   ]
  },
  {
   "cell_type": "code",
   "execution_count": 8,
   "id": "333cc121",
   "metadata": {},
   "outputs": [
    {
     "name": "stdout",
     "output_type": "stream",
     "text": [
      "\n",
      "output.txt content:\n",
      "data,4\n",
      "science,2\n",
      "is,2\n",
      "the,2\n",
      "future,2\n",
      "of,1\n",
      "bright,1\n",
      "everywhere,1\n",
      "but,1\n",
      "not,1\n",
      "enough,1\n",
      "insight,1\n",
      "\n"
     ]
    }
   ],
   "source": [
    "import string\n",
    "from collections import Counter\n",
    "\n",
    "with open(\"article.txt\", \"r\") as f:\n",
    "    text = f.read()\n",
    "\n",
    "text = text.lower().translate(str.maketrans(\"\", \"\", string.punctuation))\n",
    "words = text.split()\n",
    "freq = Counter(words)\n",
    "top20 = freq.most_common(20)\n",
    "\n",
    "with open(\"output.txt\", \"w\") as f:\n",
    "    for word, count in top20:\n",
    "        f.write(f\"{word},{count}\\n\")\n",
    "\n",
    "print(\"\\noutput.txt content:\")\n",
    "with open(\"output.txt\", \"r\") as f:\n",
    "    print(f.read())\n"
   ]
  }
 ],
 "metadata": {
  "kernelspec": {
   "display_name": "Python 3 (ipykernel)",
   "language": "python",
   "name": "python3"
  },
  "language_info": {
   "codemirror_mode": {
    "name": "ipython",
    "version": 3
   },
   "file_extension": ".py",
   "mimetype": "text/x-python",
   "name": "python",
   "nbconvert_exporter": "python",
   "pygments_lexer": "ipython3",
   "version": "3.9.13"
  }
 },
 "nbformat": 4,
 "nbformat_minor": 5
}
