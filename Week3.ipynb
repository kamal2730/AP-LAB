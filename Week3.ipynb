{
 "cells": [
  {
   "cell_type": "markdown",
   "id": "1a4d67f2",
   "metadata": {},
   "source": [
    "Design and implement a console-based Library Book Management System in Python. The \n",
    "system should store available books in a dictionary, where each key represents a book title \n",
    "(string) and the corresponding value represents the number of copies available (integer). The \n",
    "program must allow the user to borrow books by entering the book name and the number of \n",
    "copies they wish to borrow. If the entered book name does not exist in the dictionary, handle \n",
    "the situation using a KeyError exception and display an appropriate message. If the user enters \n",
    "a non-integer value for the number of copies, handle it using a ValueError exception. \n",
    "Additionally, if the user tries to borrow more copies than are available, create and raise a \n",
    "custom exception to display a proper error message. The program should run in a loop, \n",
    "allowing multiple borrowing attempts, and should only terminate when the user types \"exit\". \n",
    "Even if an error occurs during the process, the program should continue running, and separate \n",
    "try-except blocks should be used to ensure smooth execution for each borrowing attempt. "
   ]
  },
  {
   "cell_type": "code",
   "execution_count": 1,
   "id": "17658ace",
   "metadata": {},
   "outputs": [
    {
     "name": "stdout",
     "output_type": "stream",
     "text": [
      "{'science': 10, 'math': 12, 'english': 9}\n",
      "Enter book name to borrow:math\n",
      "n:5\n",
      "{'science': 10, 'math': 7, 'english': 9}\n",
      "Enter book name to borrow:eng\n",
      "Book not found.\n",
      "{'science': 10, 'math': 7, 'english': 9}\n",
      "Enter book name to borrow:english\n",
      "n:9\n",
      "{'science': 10, 'math': 7, 'english': 0}\n",
      "Enter book name to borrow:science\n",
      "n:4\n",
      "{'science': 6, 'math': 7, 'english': 0}\n",
      "Enter book name to borrow:english\n",
      "n:1\n",
      "Error: give less n. Please check the values and try again.\n",
      "{'science': 6, 'math': 7, 'english': 0}\n",
      "Enter book name to borrow:exit\n",
      "Book not found.\n",
      "Thankyou!!\n"
     ]
    }
   ],
   "source": [
    "library={\"science\":10,\"math\":12,\"english\":9}\n",
    "prompt=\"\"\n",
    "while(prompt!=\"exit\"):\n",
    "    print(library)\n",
    "    try:\n",
    "        prompt=input(\"Enter book name to borrow:\")\n",
    "        book_no=library[prompt]\n",
    "    except KeyError:\n",
    "        print(\"Book not found.\")\n",
    "        continue\n",
    "    try:\n",
    "        n=int(input(\"n:\"))\n",
    "    except ValueError:\n",
    "        print(\"That's not an int!\")\n",
    "        continue\n",
    "    \n",
    "    try:\n",
    "        if book_no < n:\n",
    "            raise ValueError(\"give less n\")\n",
    "        else:\n",
    "            library[prompt] = book_no - n\n",
    "    except ValueError as e:\n",
    "        print(f\"Error: {e}. Please check the values and try again.\")\n",
    "        continue\n",
    "print(\"Thankyou!!\")"
   ]
  },
  {
   "cell_type": "markdown",
   "id": "068b561d",
   "metadata": {},
   "source": [
    "Write a Python program to simulate an online shopping cart. \n",
    "\n",
    "a. Maintain an inventory dictionary where keys are product names and values are their \n",
    "prices.\n",
    "\n",
    "b. The user can enter an item name and quantity to purchase.\n",
    "\n",
    "c. Handle the following exceptions:\n",
    "\n",
    "i. KeyError if the product does not exist in the inventory. \n",
    "\n",
    "ii. ValueError if the entered quantity is not a number. \n",
    "\n",
    "iii. ZeroDivisionError if you attempt to calculate a discount percentage where the \n",
    "total price is zero. \n",
    "\n",
    "d. Use a list of tuples to store purchased items in the format (item_name, quantity, \n",
    "total_price). \n",
    "\n",
    "e. At the end, display a bill showing all purchased items, their quantities, and prices. \n",
    "\n",
    "f. Ensure that invalid inputs do not crash the program but instead prompt the user \n",
    "again."
   ]
  },
  {
   "cell_type": "code",
   "execution_count": 2,
   "id": "92439b52",
   "metadata": {},
   "outputs": [
    {
     "name": "stdout",
     "output_type": "stream",
     "text": [
      "{'book': 10, 'pen': 12, 'pencil': 9}\n",
      "[]\n",
      "item name:pen\n",
      "quantity:12\n",
      "{'book': 10, 'pen': 12, 'pencil': 9}\n",
      "[('pen', 12, 12)]\n",
      "item name:pencil\n",
      "quantity:100\n",
      "{'book': 10, 'pen': 12, 'pencil': 9}\n",
      "[('pen', 12, 12), ('pencil', 100, 9)]\n",
      "item name:book\n",
      "quantity:50\n",
      "{'book': 10, 'pen': 12, 'pencil': 9}\n",
      "[('pen', 12, 12), ('pencil', 100, 9), ('book', 50, 10)]\n",
      "item name:exit\n",
      "No item found.\n",
      "Enter DISCOUNT %30\n",
      "BILL\n",
      "--------------------------------------------------\n",
      "ITEM\tQUANTITY\tPRICES\n",
      "--------------------------------------------------\n",
      "pen \t 12 \t\t 144\n",
      "pencil \t 100 \t\t 900\n",
      "book \t 50 \t\t 500\n",
      "--------------------------------------------------\n",
      "\t\t\tTOTAL:1544\n",
      "\t\t\tDISCOUNT:30\n",
      "\tTOTAL AFTER DISCOUNT:1080.8\n",
      "--------------------------------------------------\n",
      "Thankyou!!\n",
      "--------------------------------------------------\n"
     ]
    }
   ],
   "source": [
    "inventory={\"book\":10,\"pen\":12,\"pencil\":9}\n",
    "prompt=\"\"\n",
    "bill=[]\n",
    "while(prompt!=\"exit\"):\n",
    "    print(inventory)\n",
    "    print(bill)\n",
    "    try:\n",
    "        prompt=input(\"item name:\")\n",
    "        price=inventory[prompt]\n",
    "    except KeyError:\n",
    "        print(\"No item found.\")\n",
    "        continue\n",
    "    try:\n",
    "        n=int(input(\"quantity:\"))\n",
    "    except ValueError:\n",
    "        print(\"That's not an int!\")\n",
    "        continue\n",
    "    bill.append((prompt,n,price))\n",
    "\n",
    "\n",
    "discount=int(input(\"Enter DISCOUNT %\"))\n",
    "print(\"BILL\")\n",
    "print(\"-\"*50)\n",
    "print(\"ITEM\\tQUANTITY\\tPRICES\")\n",
    "print(\"-\"*50)\n",
    "sum=0\n",
    "for item in bill:\n",
    "    print(f\"{item[0]} \\t {item[1]} \\t\\t {item[2]*item[1]}\")\n",
    "    sum+=item[2]*item[1]\n",
    "print(\"-\"*50)\n",
    "print(f\"\\t\\t\\tTOTAL:{sum}\")\n",
    "print(f\"\\t\\t\\tDISCOUNT:{discount}\")\n",
    "try:\n",
    "    sum=sum*(100-discount)/100    \n",
    "except ZeroDivisionError:\n",
    "    print(\"ZeroDivisionError!\")\n",
    "\n",
    "print(f\"\\tTOTAL AFTER DISCOUNT:{sum}\")\n",
    "print(\"-\"*50)\n",
    "print(\"Thankyou!!\")\n",
    "print(\"-\"*50)"
   ]
  },
  {
   "cell_type": "markdown",
   "id": "46fa988c",
   "metadata": {},
   "source": [
    "You are writing a signup system for a web application. \n",
    "\n",
    "a. Create a custom exception InvalidDomainError that inherits from Exception. \n",
    "\n",
    "b. Write a function validate_email(email) that: \n",
    "\n",
    "i. Checks if the email contains \"@\". If not, raise ValueError. \n",
    "\n",
    "ii. Checks  if  the  domain  (part  after  \"@\")  is  \"example.com\".  If  not,  raise \n",
    "InvalidDomainError. \n",
    "\n",
    "iii. Returns \"Valid email\" if all checks pass. \n",
    "\n",
    "c. Use try–except to: \n",
    "\n",
    "i. Catch ValueError and print \"Email must contain '@' symbol.\". \n",
    "\n",
    "ii. Catch InvalidDomainError and print \"Email domain must be 'example.com'.\". \n",
    "\n",
    "iii. Catch any other exception and print \"Unexpected error: <error message>\""
   ]
  },
  {
   "cell_type": "code",
   "execution_count": 54,
   "id": "b28eac63",
   "metadata": {},
   "outputs": [],
   "source": [
    "class InvalidDomainError(Exception):\n",
    "    def __init__(self, message, error_code):\n",
    "        super().__init__(message)\n",
    "        self.error_code = error_code\n",
    "\n",
    "    def __str__(self):\n",
    "        return f\"{self.message} (Error Code: {self.error_code})\"\n",
    "\n",
    "def validate_email(mail):\n",
    "    try:\n",
    "        if \"@\" not in mail:\n",
    "            raise ValueError(\"Email does not contain @\")\n",
    "        if not mail.endswith(\"example.com\"):\n",
    "            raise InvalidDomainError(\"Invalid Domain Error\", 1001)\n",
    "\n",
    "        print(\"Email is valid!\")\n",
    "    \n",
    "    except ValueError as ve:\n",
    "        print(\"Email must contain '@' symbol.\")\n",
    "    \n",
    "    except InvalidDomainError as ide:\n",
    "        print(\"Email domain must be 'example.com'\")\n",
    "    \n",
    "    except Exception as e:\n",
    "        print(f\"Unexpected Error: {e}\")"
   ]
  },
  {
   "cell_type": "code",
   "execution_count": 52,
   "id": "480a56f1",
   "metadata": {},
   "outputs": [
    {
     "name": "stdout",
     "output_type": "stream",
     "text": [
      "Email is valid!\n"
     ]
    }
   ],
   "source": [
    "validate_email(\"itzkamalkant@example.com\")"
   ]
  },
  {
   "cell_type": "code",
   "execution_count": 55,
   "id": "b3dd0b3d",
   "metadata": {},
   "outputs": [
    {
     "name": "stdout",
     "output_type": "stream",
     "text": [
      "Email domain must be 'example.com'\n"
     ]
    }
   ],
   "source": [
    "validate_email(\"itzkamalkant@gmail.com\")"
   ]
  },
  {
   "cell_type": "code",
   "execution_count": 56,
   "id": "477960b1",
   "metadata": {},
   "outputs": [
    {
     "name": "stdout",
     "output_type": "stream",
     "text": [
      "Email must contain '@' symbol.\n"
     ]
    }
   ],
   "source": [
    "validate_email(\"itzkamalkantgmail.com\")"
   ]
  }
 ],
 "metadata": {
  "kernelspec": {
   "display_name": "Python 3 (ipykernel)",
   "language": "python",
   "name": "python3"
  },
  "language_info": {
   "codemirror_mode": {
    "name": "ipython",
    "version": 3
   },
   "file_extension": ".py",
   "mimetype": "text/x-python",
   "name": "python",
   "nbconvert_exporter": "python",
   "pygments_lexer": "ipython3",
   "version": "3.9.13"
  }
 },
 "nbformat": 4,
 "nbformat_minor": 5
}
