{
 "cells": [
  {
   "cell_type": "code",
   "execution_count": 6,
   "id": "1db0f7a0",
   "metadata": {},
   "outputs": [],
   "source": [
    "class Person:\n",
    "    def __init__(self, name, email):\n",
    "        self.name = name\n",
    "        self.email = email\n",
    "\n",
    "class Student(Person):\n",
    "    def __init__(self, name, email, student_id):\n",
    "        super().__init__(name, email)\n",
    "        self.student_id = student_id\n",
    "        self.registered_courses = []\n",
    "\n",
    "    def register_course(self, course):\n",
    "        if course.add_student(self):\n",
    "            self.registered_courses.append(course)\n",
    "            print(f\"{self.name} has successfully registered for {course.course_name}.\")\n",
    "        else:\n",
    "            print(f\"{self.name} could not register for {course.course_name} (Full).\")\n",
    "\n",
    "class Faculty(Person):\n",
    "    def __init__(self, name, email, faculty_id):\n",
    "        super().__init__(name, email)\n",
    "        self.faculty_id = faculty_id\n",
    "        self.assigned_courses = []\n",
    "\n",
    "    def assign_course(self, course):\n",
    "        self.assigned_courses.append(course)\n",
    "        course.faculty = self\n",
    "        print(f\"{self.name} has been assigned to teach {course.course_name}.\")\n",
    "\n",
    "class Course:\n",
    "    def __init__(self, course_code, course_name, capacity):\n",
    "        self.course_code = course_code\n",
    "        self.course_name = course_name\n",
    "        self.capacity = capacity\n",
    "        self.registered_students = []\n",
    "        self.faculty = None\n",
    "\n",
    "    def add_student(self, student):\n",
    "        if len(self.registered_students) < self.capacity:\n",
    "            self.registered_students.append(student)\n",
    "            University.total_students += 1\n",
    "            return True\n",
    "        else:\n",
    "            return False\n",
    "\n",
    "class University:\n",
    "    total_students = 0\n",
    "\n",
    "    def __init__(self):\n",
    "        self.all_courses = {}\n",
    "        self.all_students = {}\n",
    "\n",
    "    def add_course(self, course):\n",
    "        self.all_courses[course.course_code] = course\n",
    "        print(f\"Course {course.course_name} added to the university.\")\n",
    "\n",
    "    def add_student(self, student):\n",
    "        self.all_students[student.student_id] = student\n",
    "        print(f\"Student {student.name} added to the university.\")\n",
    "\n",
    "    def display_all_courses(self):\n",
    "        print(\"\\nAll Courses in University:\")\n",
    "        for course in self.all_courses.values():\n",
    "            faculty_name = course.faculty.name if course.faculty else \"Not Assigned\"\n",
    "            print(f\"{course.course_code}: {course.course_name}, Capacity: {course.capacity}, \"\n",
    "                  f\"Faculty: {faculty_name}, Registered: {len(course.registered_students)}\")\n",
    "\n",
    "    def display_all_students(self):\n",
    "        print(\"\\nAll Students in University:\")\n",
    "        for student in self.all_students.values():\n",
    "            courses = [course.course_name for course in student.registered_courses]\n",
    "            print(f\"{student.student_id}: {student.name}, Courses: {courses}\")"
   ]
  },
  {
   "cell_type": "code",
   "execution_count": 7,
   "id": "90f1deb5",
   "metadata": {},
   "outputs": [
    {
     "name": "stdout",
     "output_type": "stream",
     "text": [
      "Course Data Structures added to the university.\n",
      "Course Algorithms added to the university.\n",
      "Course Database Systems added to the university.\n",
      "Course Operating Systems added to the university.\n"
     ]
    }
   ],
   "source": [
    "uni = University()\n",
    "\n",
    "c1 = Course(\"CS101\", \"Data Structures\", 2)\n",
    "c2 = Course(\"CS102\", \"Algorithms\", 2)\n",
    "c3 = Course(\"CS103\", \"Database Systems\", 3)\n",
    "c4 = Course(\"CS104\", \"Operating Systems\", 1)\n",
    "\n",
    "uni.add_course(c1)\n",
    "uni.add_course(c2)\n",
    "uni.add_course(c3)\n",
    "uni.add_course(c4)"
   ]
  },
  {
   "cell_type": "code",
   "execution_count": 8,
   "id": "266787e8",
   "metadata": {},
   "outputs": [
    {
     "name": "stdout",
     "output_type": "stream",
     "text": [
      "Student Alice added to the university.\n",
      "Student Bob added to the university.\n",
      "Student Charlie added to the university.\n",
      "Student David added to the university.\n",
      "Student Eve added to the university.\n"
     ]
    }
   ],
   "source": [
    "s1 = Student(\"Alice\", \"alice@example.com\", \"S001\")\n",
    "s2 = Student(\"Bob\", \"bob@example.com\", \"S002\")\n",
    "s3 = Student(\"Charlie\", \"charlie@example.com\", \"S003\")\n",
    "s4 = Student(\"David\", \"david@example.com\", \"S004\")\n",
    "s5 = Student(\"Eve\", \"eve@example.com\", \"S005\")\n",
    "\n",
    "uni.add_student(s1)\n",
    "uni.add_student(s2)\n",
    "uni.add_student(s3)\n",
    "uni.add_student(s4)\n",
    "uni.add_student(s5)"
   ]
  },
  {
   "cell_type": "code",
   "execution_count": 9,
   "id": "09086dfb",
   "metadata": {},
   "outputs": [
    {
     "name": "stdout",
     "output_type": "stream",
     "text": [
      "Dr. Smith has been assigned to teach Data Structures.\n",
      "Dr. Johnson has been assigned to teach Algorithms.\n",
      "Dr. Brown has been assigned to teach Database Systems.\n",
      "Dr. Smith has been assigned to teach Operating Systems.\n",
      "Alice has successfully registered for Data Structures.\n",
      "Bob has successfully registered for Data Structures.\n",
      "Charlie could not register for Data Structures (Full).\n",
      "Charlie has successfully registered for Algorithms.\n",
      "David has successfully registered for Database Systems.\n",
      "Eve has successfully registered for Operating Systems.\n",
      "Alice could not register for Operating Systems (Full).\n"
     ]
    }
   ],
   "source": [
    "f1 = Faculty(\"Dr. Smith\", \"smith@uni.edu\", \"F001\")\n",
    "f2 = Faculty(\"Dr. Johnson\", \"johnson@uni.edu\", \"F002\")\n",
    "f3 = Faculty(\"Dr. Brown\", \"brown@uni.edu\", \"F003\")\n",
    "\n",
    "f1.assign_course(c1)\n",
    "f2.assign_course(c2)\n",
    "f3.assign_course(c3)\n",
    "f1.assign_course(c4)\n",
    "\n",
    "s1.register_course(c1)\n",
    "s2.register_course(c1)\n",
    "s3.register_course(c1)\n",
    "s3.register_course(c2)\n",
    "s4.register_course(c3)\n",
    "s5.register_course(c4)\n",
    "s1.register_course(c4)"
   ]
  },
  {
   "cell_type": "code",
   "execution_count": 10,
   "id": "93b18991",
   "metadata": {},
   "outputs": [
    {
     "name": "stdout",
     "output_type": "stream",
     "text": [
      "\n",
      "All Courses in University:\n",
      "CS101: Data Structures, Capacity: 2, Faculty: Dr. Smith, Registered: 2\n",
      "CS102: Algorithms, Capacity: 2, Faculty: Dr. Johnson, Registered: 1\n",
      "CS103: Database Systems, Capacity: 3, Faculty: Dr. Brown, Registered: 1\n",
      "CS104: Operating Systems, Capacity: 1, Faculty: Dr. Smith, Registered: 1\n",
      "\n",
      "All Students in University:\n",
      "S001: Alice, Courses: ['Data Structures']\n",
      "S002: Bob, Courses: ['Data Structures']\n",
      "S003: Charlie, Courses: ['Algorithms']\n",
      "S004: David, Courses: ['Database Systems']\n",
      "S005: Eve, Courses: ['Operating Systems']\n",
      "\n",
      "Total students registered in university: 5\n"
     ]
    }
   ],
   "source": [
    "uni.display_all_courses()\n",
    "uni.display_all_students()\n",
    "\n",
    "print(f\"\\nTotal students registered in university: {University.total_students}\")"
   ]
  },
  {
   "cell_type": "code",
   "execution_count": 11,
   "id": "1dfab174",
   "metadata": {},
   "outputs": [],
   "source": [
    "class Person:\n",
    "    def __init__(self, name, age, gender):\n",
    "        self.name = name\n",
    "        self.age = age\n",
    "        self.gender = gender\n",
    "\n",
    "class Doctor(Person):\n",
    "    def __init__(self, name, age, gender, doctor_id, specialization, available_slots):\n",
    "        super().__init__(name, age, gender)\n",
    "        self.doctor_id = doctor_id\n",
    "        self.specialization = specialization\n",
    "        self.available_slots = available_slots\n",
    "\n",
    "    def book_slot(self, slot):\n",
    "        if slot in self.available_slots:\n",
    "            self.available_slots.remove(slot)\n",
    "            return True\n",
    "        else:\n",
    "            return False\n",
    "\n",
    "class Patient(Person):\n",
    "    def __init__(self, name, age, gender, patient_id, disease):\n",
    "        super().__init__(name, age, gender)\n",
    "        self.patient_id = patient_id\n",
    "        self.disease = disease\n",
    "        self.assigned_doctor = None\n",
    "        self.appointment_slot = None\n",
    "\n",
    "class Appointment:\n",
    "    def __init__(self, appointment_id, doctor, patient, slot):\n",
    "        self.appointment_id = appointment_id\n",
    "        self.doctor = doctor\n",
    "        self.patient = patient\n",
    "        self.slot = slot\n",
    "\n",
    "    def confirm_appointment(self):\n",
    "        if self.doctor.book_slot(self.slot):\n",
    "            self.patient.assigned_doctor = self.doctor\n",
    "            self.patient.appointment_slot = self.slot\n",
    "            return True\n",
    "        else:\n",
    "            print(f\"Error: Slot {self.slot} is not available for Dr. {self.doctor.name}.\")\n",
    "            return False\n",
    "\n",
    "class Hospital:\n",
    "    total_appointments = 0\n",
    "\n",
    "    def __init__(self):\n",
    "        self.all_doctors = {}\n",
    "        self.all_patients = {}\n",
    "        self.all_appointments = {}\n",
    "\n",
    "    def add_doctor(self, doctor):\n",
    "        self.all_doctors[doctor.doctor_id] = doctor\n",
    "        print(f\"Doctor {doctor.name} added.\")\n",
    "\n",
    "    def add_patient(self, patient):\n",
    "        self.all_patients[patient.patient_id] = patient\n",
    "        print(f\"Patient {patient.name} added.\")\n",
    "\n",
    "    def book_appointment(self, patient_id, doctor_id, slot):\n",
    "        if patient_id not in self.all_patients:\n",
    "            print(\"Invalid patient ID.\")\n",
    "            return\n",
    "        if doctor_id not in self.all_doctors:\n",
    "            print(\"Invalid doctor ID.\")\n",
    "            return\n",
    "\n",
    "        doctor = self.all_doctors[doctor_id]\n",
    "        patient = self.all_patients[patient_id]\n",
    "        appointment_id = f\"A{Hospital.total_appointments+1:03d}\"\n",
    "        appointment = Appointment(appointment_id, doctor, patient, slot)\n",
    "        if appointment.confirm_appointment():\n",
    "            self.all_appointments[appointment_id] = appointment\n",
    "            Hospital.total_appointments += 1\n",
    "            print(f\"Appointment {appointment_id} confirmed for {patient.name} with Dr. {doctor.name} at {slot}.\")\n",
    "\n",
    "    def display_all_appointments(self):\n",
    "        print(\"\\nAll Appointments:\")\n",
    "        for appt in self.all_appointments.values():\n",
    "            print(f\"{appt.appointment_id}: Patient {appt.patient.name}, \"\n",
    "                  f\"Doctor {appt.doctor.name}, Slot {appt.slot}\")"
   ]
  },
  {
   "cell_type": "code",
   "execution_count": 12,
   "id": "0c9c0d09",
   "metadata": {},
   "outputs": [
    {
     "name": "stdout",
     "output_type": "stream",
     "text": [
      "Doctor Dr. Smith added.\n",
      "Doctor Dr. Johnson added.\n",
      "Doctor Dr. Brown added.\n",
      "Patient Alice added.\n",
      "Patient Bob added.\n",
      "Patient Charlie added.\n",
      "Patient David added.\n",
      "Patient Eve added.\n",
      "Patient Fay added.\n"
     ]
    }
   ],
   "source": [
    "hospital = Hospital()\n",
    "\n",
    "d1 = Doctor(\"Dr. Smith\", 45, \"M\", \"D001\", \"Cardiology\", [\"10AM\", \"11AM\", \"2PM\"])\n",
    "d2 = Doctor(\"Dr. Johnson\", 50, \"F\", \"D002\", \"Neurology\", [\"9AM\", \"1PM\", \"3PM\"])\n",
    "d3 = Doctor(\"Dr. Brown\", 38, \"M\", \"D003\", \"Orthopedics\", [\"10AM\", \"12PM\", \"4PM\"])\n",
    "\n",
    "hospital.add_doctor(d1)\n",
    "hospital.add_doctor(d2)\n",
    "hospital.add_doctor(d3)\n",
    "\n",
    "p1 = Patient(\"Alice\", 30, \"F\", \"P001\", \"Heart\")\n",
    "p2 = Patient(\"Bob\", 40, \"M\", \"P002\", \"Brain\")\n",
    "p3 = Patient(\"Charlie\", 25, \"M\", \"P003\", \"Leg\")\n",
    "p4 = Patient(\"David\", 35, \"M\", \"P004\", \"Heart\")\n",
    "p5 = Patient(\"Eve\", 28, \"F\", \"P005\", \"Brain\")\n",
    "p6 = Patient(\"Fay\", 32, \"F\", \"P006\", \"Leg\")\n",
    "\n",
    "hospital.add_patient(p1)\n",
    "hospital.add_patient(p2)\n",
    "hospital.add_patient(p3)\n",
    "hospital.add_patient(p4)\n",
    "hospital.add_patient(p5)\n",
    "hospital.add_patient(p6)"
   ]
  },
  {
   "cell_type": "code",
   "execution_count": 13,
   "id": "726ded90",
   "metadata": {},
   "outputs": [
    {
     "name": "stdout",
     "output_type": "stream",
     "text": [
      "Appointment A001 confirmed for Alice with Dr. Dr. Smith at 10AM.\n",
      "Appointment A002 confirmed for Bob with Dr. Dr. Johnson at 9AM.\n",
      "Appointment A003 confirmed for Charlie with Dr. Dr. Brown at 10AM.\n",
      "Appointment A004 confirmed for David with Dr. Dr. Smith at 11AM.\n",
      "Appointment A005 confirmed for Eve with Dr. Dr. Johnson at 1PM.\n",
      "Error: Slot 10AM is not available for Dr. Dr. Brown.\n"
     ]
    }
   ],
   "source": [
    "hospital.book_appointment(\"P001\", \"D001\", \"10AM\")\n",
    "hospital.book_appointment(\"P002\", \"D002\", \"9AM\")\n",
    "hospital.book_appointment(\"P003\", \"D003\", \"10AM\")\n",
    "hospital.book_appointment(\"P004\", \"D001\", \"11AM\")\n",
    "hospital.book_appointment(\"P005\", \"D002\", \"1PM\")\n",
    "hospital.book_appointment(\"P006\", \"D003\", \"10AM\") "
   ]
  },
  {
   "cell_type": "code",
   "execution_count": 14,
   "id": "284b9b6e",
   "metadata": {},
   "outputs": [
    {
     "name": "stdout",
     "output_type": "stream",
     "text": [
      "\n",
      "All Appointments:\n",
      "A001: Patient Alice, Doctor Dr. Smith, Slot 10AM\n",
      "A002: Patient Bob, Doctor Dr. Johnson, Slot 9AM\n",
      "A003: Patient Charlie, Doctor Dr. Brown, Slot 10AM\n",
      "A004: Patient David, Doctor Dr. Smith, Slot 11AM\n",
      "A005: Patient Eve, Doctor Dr. Johnson, Slot 1PM\n",
      "\n",
      "Total appointments made: 5\n"
     ]
    }
   ],
   "source": [
    "hospital.display_all_appointments()\n",
    "\n",
    "print(f\"\\nTotal appointments made: {Hospital.total_appointments}\")"
   ]
  }
 ],
 "metadata": {
  "kernelspec": {
   "display_name": "base",
   "language": "python",
   "name": "python3"
  },
  "language_info": {
   "codemirror_mode": {
    "name": "ipython",
    "version": 3
   },
   "file_extension": ".py",
   "mimetype": "text/x-python",
   "name": "python",
   "nbconvert_exporter": "python",
   "pygments_lexer": "ipython3",
   "version": "3.12.9"
  }
 },
 "nbformat": 4,
 "nbformat_minor": 5
}
