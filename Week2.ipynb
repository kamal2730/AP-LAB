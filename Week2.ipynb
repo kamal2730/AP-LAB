{
 "cells": [
  {
   "cell_type": "markdown",
   "id": "5e773bf0",
   "metadata": {},
   "source": [
    "Design  and  implement  a  Python  program  to  manage  hospital  patient  records  using \n",
    "appropriate data structures. Each patient has a unique patient_id (string), a name (string), \n",
    "an age (integer), and a medical_history, which is a list of tuples. Each tuple in the medical \n",
    "history  represents  a  medical visit  and  should  contain  two  elements:  the  date  (in  YYYY-\n",
    "MM-DD format) and a diagnosis (string). Store the patient records in a dictionary, where \n",
    "the key is the patient_id and the value is a tuple containing the patient's name, age, and \n",
    "medical history list. \n",
    "Your program should allow the following operations: \n",
    "1. Add a new patient record to the system. \n",
    "2. Update an existing patient’s medical history by appending a new (date, diagnosis) \n",
    "tuple. \n",
    "3. Display the details of all patients who are over the age of 60 and have at least one \n",
    "diagnosis that includes the word \"diabetes\" (case-insensitive match). \n",
    "4. Count and display how many patients have more than three medical diagnoses \n",
    "in their history. "
   ]
  },
  {
   "cell_type": "code",
   "execution_count": 95,
   "id": "aa833be3",
   "metadata": {},
   "outputs": [],
   "source": [
    "records={}"
   ]
  },
  {
   "cell_type": "markdown",
   "id": "646a785b",
   "metadata": {},
   "source": [
    "1. Add a new patient record to the system. "
   ]
  },
  {
   "cell_type": "code",
   "execution_count": 96,
   "id": "26bb1410",
   "metadata": {},
   "outputs": [],
   "source": [
    "n=input(\"Number of patient:\")\n",
    "for i in range(int(n)):\n",
    "    patient_id=input(\"Patent id:\")\n",
    "    name=input(\"name:\")\n",
    "    age=int(input(\"age:\"))\n",
    "    medical_history=[]\n",
    "    records[patient_id]=(name,age,medical_history)"
   ]
  },
  {
   "cell_type": "code",
   "execution_count": 97,
   "id": "3d466762",
   "metadata": {},
   "outputs": [
    {
     "data": {
      "text/plain": [
       "{'1': ('kamal', 18, [])}"
      ]
     },
     "execution_count": 97,
     "metadata": {},
     "output_type": "execute_result"
    }
   ],
   "source": [
    "records"
   ]
  },
  {
   "cell_type": "markdown",
   "id": "834b12e2",
   "metadata": {},
   "source": [
    "2. Update an existing patient’s medical history by appending a new (date, diagnosis) tuple. "
   ]
  },
  {
   "cell_type": "code",
   "execution_count": 98,
   "id": "be86aa7d",
   "metadata": {},
   "outputs": [],
   "source": [
    "key=input(\"Enter Patient id:\")\n",
    "rec=records[key]\n",
    "date=input(\"Date:\")\n",
    "diagnosis=input(\"Diagnosis:\")\n",
    "rec[2].append((date,diagnosis))\n",
    "records[key]=rec"
   ]
  },
  {
   "cell_type": "code",
   "execution_count": 99,
   "id": "93a414cc",
   "metadata": {},
   "outputs": [
    {
     "data": {
      "text/plain": [
       "{'1': ('kamal', 18, [('27-11-2006', 'cancer')])}"
      ]
     },
     "execution_count": 99,
     "metadata": {},
     "output_type": "execute_result"
    }
   ],
   "source": [
    "records"
   ]
  },
  {
   "cell_type": "code",
   "execution_count": 100,
   "id": "4c1cc7af",
   "metadata": {},
   "outputs": [],
   "source": [
    "records = {\n",
    "    \"P001\": (\"John Doe\", 45, [(\"2023-01-01\", \"Cold\"), (\"2023-03-15\", \"Cough\")]),\n",
    "    \"P002\": (\"Jane Smith\", 70, [(\"2023-02-10\", \"Diabetes\"), (\"2023-04-20\", \"High Blood Pressure\")]),\n",
    "    \"P003\": (\"Mark Johnson\", 34, [(\"2023-03-01\", \"Back Pain\")]),\n",
    "    \"P004\": (\"Emily Davis\", 65, [(\"2023-01-05\", \"Diabetes\"), (\"2023-03-10\", \"Cough\")]),\n",
    "    \"P005\": (\"Michael Brown\", 28, [(\"2023-02-12\", \"Allergy\"), (\"2023-04-25\", \"Headache\")]),\n",
    "    \"P006\": (\"Sarah Wilson\", 55, [(\"2023-01-10\", \"Flu\")]),\n",
    "    \"P007\": (\"David Lee\", 60, [(\"2023-02-05\", \"Diabetes\"), (\"2023-03-01\", \"Chest Pain\")]),\n",
    "    \"P008\": (\"Sophia Taylor\", 80, [(\"2023-01-12\", \"Diabetes\"), (\"2023-04-10\", \"Dizziness\")]),\n",
    "    \"P009\": (\"James Anderson\", 45, [(\"2023-02-20\", \"Headache\")]),\n",
    "    \"P010\": (\"Olivia Martinez\", 38, [(\"2023-01-15\", \"Cold\")]),\n",
    "    \"P011\": (\"Robert Harris\", 72, [(\"2023-03-30\", \"Heart Disease\"), (\"2023-05-01\", \"Diabetes\")]),\n",
    "    \"P012\": (\"Linda Clark\", 50, [(\"2023-03-05\", \"Flu\")]),\n",
    "    \"P013\": (\"Charles Allen\", 62, [(\"2023-01-18\", \"Cough\"), (\"2023-04-12\", \"Diabetes\")]),\n",
    "    \"P014\": (\"Nancy King\", 46, [(\"2023-01-25\", \"Asthma\"), (\"2023-03-02\", \"Back Pain\")]),\n",
    "    \"P015\": (\"Joseph Scott\", 64, [(\"2023-02-10\", \"Diabetes\"), (\"2023-04-20\", \"High Blood Pressure\")]),\n",
    "    \"P016\": (\"Elizabeth Moore\", 60, [(\"2023-03-15\", \"Diabetes\"), (\"2023-04-10\", \"Cough\")]),\n",
    "    \"P017\": (\"William White\", 51, [(\"2023-02-28\", \"Headache\"), (\"2023-04-05\", \"Flu\")]),\n",
    "    \"P018\": (\"Isabella Robinson\", 48, [(\"2023-01-22\", \"Diabetes\")]),\n",
    "    \"P019\": (\"Lucas Lewis\", 66, [(\"2023-02-14\", \"Flu\"), (\"2023-04-01\", \"Diabetes\")]),\n",
    "    \"P020\": (\"Grace Walker\", 56, [(\"2023-02-18\", \"Chest Pain\")]),\n",
    "    \"P021\": (\"Henry Hall\", 41, [(\"2023-01-30\", \"Cold\"), (\"2023-03-03\", \"Cough\")]),\n",
    "    \"P022\": (\"Victoria Allen\", 59, [(\"2023-02-10\", \"Diabetes\"), (\"2023-03-15\", \"Fatigue\")]),\n",
    "    \"P023\": (\"George Young\", 49, [(\"2023-01-02\", \"Headache\")]),\n",
    "    \"P024\": (\"Charlotte Hernandez\", 67, [(\"2023-01-12\", \"Diabetes\"), (\"2023-03-05\", \"Dizziness\"), (\"2023-04-15\", \"Back Pain\")]),\n",
    "    \"P025\": (\"Benjamin Wright\", 35, [(\"2023-02-20\", \"Cold\"), (\"2023-03-22\", \"Allergy\")]),\n",
    "    \"P026\": (\"Megan Hill\", 30, [(\"2023-03-08\", \"Cough\"), (\"2023-05-01\", \"Diabetes\")]),\n",
    "    \"P027\": (\"Ethan Adams\", 62, [(\"2023-01-10\", \"Diabetes\"), (\"2023-04-15\", \"Back Pain\")]),\n",
    "    \"P028\": (\"Chloe Carter\", 54, [(\"2023-02-15\", \"Asthma\"), (\"2023-04-18\", \"Fatigue\")]),\n",
    "    \"P029\": (\"Aiden Perez\", 70, [(\"2023-03-01\", \"Diabetes\"), (\"2023-04-20\", \"Chest Pain\")]),\n",
    "    \"P030\": (\"Zoe Mitchell\", 41, [(\"2023-01-08\", \"Flu\"), (\"2023-03-14\", \"Headache\")])\n",
    "}\n"
   ]
  },
  {
   "cell_type": "markdown",
   "id": "408bd548",
   "metadata": {},
   "source": [
    "3. Display the details of all patients who are over the age of 60 and have at least one \n",
    "diagnosis that includes the word \"diabetes\" (case-insensitive match). "
   ]
  },
  {
   "cell_type": "code",
   "execution_count": 101,
   "id": "fd9063f8",
   "metadata": {},
   "outputs": [
    {
     "name": "stdout",
     "output_type": "stream",
     "text": [
      "('Jane Smith', 70, [('2023-02-10', 'Diabetes'), ('2023-04-20', 'High Blood Pressure')])\n",
      "('Emily Davis', 65, [('2023-01-05', 'Diabetes'), ('2023-03-10', 'Cough')])\n",
      "('Sophia Taylor', 80, [('2023-01-12', 'Diabetes'), ('2023-04-10', 'Dizziness')])\n",
      "('Robert Harris', 72, [('2023-03-30', 'Heart Disease'), ('2023-05-01', 'Diabetes')])\n",
      "('Charles Allen', 62, [('2023-01-18', 'Cough'), ('2023-04-12', 'Diabetes')])\n",
      "('Joseph Scott', 64, [('2023-02-10', 'Diabetes'), ('2023-04-20', 'High Blood Pressure')])\n",
      "('Lucas Lewis', 66, [('2023-02-14', 'Flu'), ('2023-04-01', 'Diabetes')])\n",
      "('Charlotte Hernandez', 67, [('2023-01-12', 'Diabetes'), ('2023-03-05', 'Dizziness'), ('2023-04-15', 'Back Pain')])\n",
      "('Ethan Adams', 62, [('2023-01-10', 'Diabetes'), ('2023-04-15', 'Back Pain')])\n",
      "('Aiden Perez', 70, [('2023-03-01', 'Diabetes'), ('2023-04-20', 'Chest Pain')])\n"
     ]
    }
   ],
   "source": [
    "for rec in records.values():\n",
    "    if(int(rec[1])>60):\n",
    "        for history in rec[2]:\n",
    "            if \"diabetes\" in history[1].lower():\n",
    "                print(rec)"
   ]
  },
  {
   "cell_type": "markdown",
   "id": "0b186680",
   "metadata": {},
   "source": [
    "4. Count and display how many patients have more than three medical diagnoses \n",
    "in their history. "
   ]
  },
  {
   "cell_type": "code",
   "execution_count": 102,
   "id": "17e51f6e",
   "metadata": {},
   "outputs": [
    {
     "data": {
      "text/plain": [
       "0"
      ]
     },
     "execution_count": 102,
     "metadata": {},
     "output_type": "execute_result"
    }
   ],
   "source": [
    "count=0\n",
    "for rec in records.values():\n",
    "    if(len(rec[2])>3):\n",
    "        count+=1\n",
    "count"
   ]
  },
  {
   "cell_type": "markdown",
   "id": "7f69663f",
   "metadata": {},
   "source": [
    "Develop  a  Python  program  to  assist  a  university  in  planning  and  analyzing  course \n",
    "schedules and student enrollments. Each course is uniquely identified by a course_code \n",
    "(e.g.,  \"CS101\")  and  includes  the  following  details:  the  instructor  (string),  a  schedule \n",
    "represented as a list of tuples, where each tuple contains the day and time of a session \n",
    "(e.g., (\"Mon\", \"10:00AM\")), and a list of enrolled_students (names as strings). All course \n",
    "data  should  be  stored  in  a  dictionary,  with  the  course_code  as  the  key  and  the  value \n",
    "being  a  tuple  containing  the  instructor's  name,  schedule  list,  and  the  list  of  enrolled \n",
    "students. \n",
    "Your program should provide functionality to: \n",
    "1. Add new courses or update the schedule of existing courses. \n",
    "2. Detect  and  report  scheduling  conflicts  for  instructors—cases  where  an \n",
    "instructor is assigned to more than one course at the same time on the same day. \n",
    "3. Generate  a  new  dictionary  that  maps  each  student name  to  a  list of course \n",
    "codes they are enrolled in. \n",
    "4. Identify  and  display  the  names  of  all  students  who  are  enrolled  in  more than \n",
    "three courses."
   ]
  },
  {
   "cell_type": "code",
   "execution_count": 103,
   "id": "978cfc61",
   "metadata": {},
   "outputs": [],
   "source": [
    "courses = {\n",
    "    \"CS101\": (\"Dr. Smith\", [(\"Mon\", \"10:00AM\"), (\"Wed\", \"10:00AM\")], [\"Alice\", \"Bob\"]),\n",
    "    \"MATH201\": (\"Prof. Johnson\", [(\"Tue\", \"2:00PM\"), (\"Thu\", \"2:00PM\")], [\"Alice\", \"Charlie\"]),\n",
    "    \"PHY101\": (\"Dr. Lee\", [(\"Mon\", \"11:00AM\"), (\"Fri\", \"11:00AM\")], [\"Bob\", \"David\"]),\n",
    "    \"BIO101\": (\"Dr. Green\", [(\"Mon\", \"10:00AM\"), (\"Wed\", \"1:00PM\")], [\"Charlie\", \"David\"]),\n",
    "    \"CS102\": (\"Dr. Smith\", [(\"Mon\", \"10:00AM\"), (\"Thu\", \"10:00AM\")], [\"Eve\", \"Frank\"]),\n",
    "    \"MATH202\": (\"Prof. Adams\", [(\"Mon\", \"2:00PM\"), (\"Wed\", \"2:00PM\")], [\"Grace\", \"Hank\"]),\n",
    "    \"CHEM101\": (\"Dr. Wright\", [(\"Mon\", \"1:00PM\"), (\"Fri\", \"2:00PM\")], [\"Ivy\", \"Jack\"]),\n",
    "    \"ENG102\": (\"Prof. Thomas\", [(\"Tue\", \"9:00AM\"), (\"Thu\", \"9:00AM\")], [\"Alice\", \"David\"]),\n",
    "    \"CS203\": (\"Prof. Johnson\", [(\"Tue\", \"2:00PM\"), (\"Wed\", \"3:00PM\")], [\"Ivy\", \"Grace\"]),\n",
    "    \"BIO202\": (\"Dr. Mitchell\", [(\"Mon\", \"2:00PM\"), (\"Fri\", \"2:00PM\")], [\"Hank\", \"Frank\"]),\n",
    "    \"PHY202\": (\"Dr. Clark\", [(\"Tue\", \"11:00AM\"), (\"Thu\", \"11:00AM\")], [\"Charlie\", \"Ivy\"]),\n",
    "    \"MATH303\": (\"Prof. Wilson\", [(\"Mon\", \"4:00PM\"), (\"Wed\", \"4:00PM\")], [\"Bob\", \"Alice\"]),\n",
    "    \"CS204\": (\"Prof. Adams\", [(\"Mon\", \"2:00PM\"), (\"Thu\", \"1:00PM\")], [\"Grace\", \"Ivy\"]),\n",
    "    \"CHEM201\": (\"Dr. Harris\", [(\"Mon\", \"9:00AM\"), (\"Wed\", \"9:00AM\")], [\"Jack\", \"Charlie\"]),\n",
    "    \"ENG201\": (\"Prof. White\", [(\"Tue\", \"3:00PM\"), (\"Thu\", \"3:00PM\")], [\"David\", \"Hank\"]),\n",
    "    \"BIO301\": (\"Dr. Adams\", [(\"Mon\", \"10:00AM\"), (\"Fri\", \"1:00PM\")], [\"Alice\", \"Frank\"]),\n",
    "    \"CS301\": (\"Dr. Lee\", [(\"Mon\", \"11:00AM\"), (\"Fri\", \"11:00AM\")], [\"Charlie\", \"Bob\"]),\n",
    "    \"MATH101\": (\"Prof. Green\", [(\"Mon\", \"12:00PM\"), (\"Wed\", \"12:00PM\")], [\"Ivy\", \"David\"]),\n",
    "    \"CS302\": (\"Dr. Robinson\", [(\"Tue\", \"4:00PM\"), (\"Thu\", \"4:00PM\")], [\"Frank\", \"Eve\"]),\n",
    "    \"ENG301\": (\"Prof. Black\", [(\"Mon\", \"3:00PM\"), (\"Wed\", \"3:00PM\")], [\"Jack\", \"Eve\"]),\n",
    "}\n"
   ]
  },
  {
   "cell_type": "markdown",
   "id": "5ae059d7",
   "metadata": {},
   "source": [
    "1. Add new courses or update the schedule of existing courses. "
   ]
  },
  {
   "cell_type": "code",
   "execution_count": 104,
   "id": "3ff299c7",
   "metadata": {},
   "outputs": [],
   "source": [
    "def add_or_update_course(course_code, instructor, schedule, enrolled_students):\n",
    "    courses[course_code] = (instructor, schedule, enrolled_students)\n",
    "add_or_update_course(\"CS202\", \"Dr. Miller\", [(\"Mon\", \"11:00AM\"), (\"Thu\", \"2:00PM\")], [\"David\", \"Alice\"])"
   ]
  },
  {
   "cell_type": "markdown",
   "id": "4a42a683",
   "metadata": {},
   "source": [
    "2. Detect  and  report  scheduling  conflicts  for  instructors—cases  where  an \n",
    "instructor is assigned to more than one course at the same time on the same day. "
   ]
  },
  {
   "cell_type": "code",
   "execution_count": 105,
   "id": "8c222e98",
   "metadata": {},
   "outputs": [
    {
     "data": {
      "text/plain": [
       "['Conflict: Dr. Smith is teaching multiple courses at Mon 10:00AM',\n",
       " 'Conflict: Prof. Johnson is teaching multiple courses at Tue 2:00PM',\n",
       " 'Conflict: Prof. Adams is teaching multiple courses at Mon 2:00PM',\n",
       " 'Conflict: Dr. Lee is teaching multiple courses at Mon 11:00AM',\n",
       " 'Conflict: Dr. Lee is teaching multiple courses at Fri 11:00AM']"
      ]
     },
     "execution_count": 105,
     "metadata": {},
     "output_type": "execute_result"
    }
   ],
   "source": [
    "def check_conflicts():\n",
    "    instructor_schedule = {}\n",
    "    conflicts = []\n",
    "    for course_code, (instructor, schedule, _) in courses.items():\n",
    "        for day, time in schedule:\n",
    "            if instructor not in instructor_schedule:\n",
    "                instructor_schedule[instructor] = []\n",
    "            if (day, time) in instructor_schedule[instructor]:\n",
    "                conflicts.append(f\"Conflict: {instructor} is teaching multiple courses at {day} {time}\")\n",
    "            else:\n",
    "                instructor_schedule[instructor].append((day, time))\n",
    "    return conflicts\n",
    "conflicts = check_conflicts()\n",
    "conflicts\n"
   ]
  },
  {
   "cell_type": "markdown",
   "id": "23cca970",
   "metadata": {},
   "source": [
    "3. Generate  a  new  dictionary  that  maps  each  student name  to  a  list of course \n",
    "codes they are enrolled in. "
   ]
  },
  {
   "cell_type": "code",
   "execution_count": 106,
   "id": "2a55edcc",
   "metadata": {},
   "outputs": [
    {
     "name": "stdout",
     "output_type": "stream",
     "text": [
      "('Alice', ['CS101', 'MATH201', 'ENG102', 'MATH303', 'BIO301', 'CS202'])\n",
      "('Bob', ['CS101', 'PHY101', 'MATH303', 'CS301'])\n",
      "('Charlie', ['MATH201', 'BIO101', 'PHY202', 'CHEM201', 'CS301'])\n",
      "('David', ['PHY101', 'BIO101', 'ENG102', 'ENG201', 'MATH101', 'CS202'])\n",
      "('Eve', ['CS102', 'CS302', 'ENG301'])\n",
      "('Frank', ['CS102', 'BIO202', 'BIO301', 'CS302'])\n",
      "('Grace', ['MATH202', 'CS203', 'CS204'])\n",
      "('Hank', ['MATH202', 'BIO202', 'ENG201'])\n",
      "('Ivy', ['CHEM101', 'CS203', 'PHY202', 'CS204', 'MATH101'])\n",
      "('Jack', ['CHEM101', 'CHEM201', 'ENG301'])\n"
     ]
    }
   ],
   "source": [
    "def map_students_to_courses():\n",
    "    students_courses = {}\n",
    "    for course_code, (_, _, students) in courses.items():\n",
    "        for student in students:\n",
    "            if student not in students_courses:\n",
    "                students_courses[student] = []\n",
    "            students_courses[student].append(course_code)\n",
    "    return students_courses\n",
    "students_courses = map_students_to_courses()\n",
    "\n",
    "for st in students_courses.items():\n",
    "    print(st)\n"
   ]
  },
  {
   "cell_type": "markdown",
   "id": "3d6a1a9b",
   "metadata": {},
   "source": [
    "4. Identify  and  display  the  names  of  all  students  who  are  enrolled  in  more than \n",
    "three courses."
   ]
  },
  {
   "cell_type": "code",
   "execution_count": 107,
   "id": "5a006320",
   "metadata": {},
   "outputs": [
    {
     "data": {
      "text/plain": [
       "['Alice', 'Bob', 'Charlie', 'David', 'Frank', 'Ivy']"
      ]
     },
     "execution_count": 107,
     "metadata": {},
     "output_type": "execute_result"
    }
   ],
   "source": [
    "def students_enrolled_more_than_3():\n",
    "    students_courses = map_students_to_courses()\n",
    "    students_over_3 = []\n",
    "    for student, courses in students_courses.items():\n",
    "        if len(courses) > 3:\n",
    "            students_over_3.append(student)\n",
    "    return students_over_3\n",
    "students_over_3 = students_enrolled_more_than_3()\n",
    "students_over_3\n"
   ]
  }
 ],
 "metadata": {
  "kernelspec": {
   "display_name": "base",
   "language": "python",
   "name": "python3"
  },
  "language_info": {
   "codemirror_mode": {
    "name": "ipython",
    "version": 3
   },
   "file_extension": ".py",
   "mimetype": "text/x-python",
   "name": "python",
   "nbconvert_exporter": "python",
   "pygments_lexer": "ipython3",
   "version": "3.9.13"
  }
 },
 "nbformat": 4,
 "nbformat_minor": 5
}
